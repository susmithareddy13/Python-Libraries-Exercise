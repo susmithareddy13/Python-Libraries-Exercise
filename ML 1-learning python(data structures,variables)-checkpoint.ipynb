{
 "cells": [
  {
   "cell_type": "markdown",
   "id": "5c5c9978",
   "metadata": {},
   "source": [
    "# Python Data Structures and Boolean\n",
    "Boolean\n",
    "Boolean and Logical Operators\n",
    "Lists\n",
    "Comparison operators\n",
    "Dictionaries\n",
    "Tuples\n",
    "Sets\n"
   ]
  },
  {
   "cell_type": "markdown",
   "id": "28ab5133",
   "metadata": {},
   "source": [
    "## Boolean Values\n",
    "Boolean values are the two constant objects False and True.\n",
    "\n",
    "They are used to represent truth values (other values can also be considered false or true).\n",
    "\n",
    "In numeric contexts (for example, when used as the argument to an arithmetic operator), they behave like the integers 0 and 1, respectively.\n",
    "\n",
    "The built-in function bool() can be used to cast any value to a Boolean, if the value can be interpreted as a truth value\n",
    "\n",
    "They are written as False and True, respectively."
   ]
  },
  {
   "cell_type": "code",
   "execution_count": 2,
   "id": "85d95378",
   "metadata": {},
   "outputs": [
    {
     "data": {
      "text/plain": [
       "False"
      ]
     },
     "execution_count": 2,
     "metadata": {},
     "output_type": "execute_result"
    }
   ],
   "source": [
    "bool()\n",
    "#True\n",
    "#False"
   ]
  },
  {
   "cell_type": "code",
   "execution_count": 6,
   "id": "49b7c836",
   "metadata": {},
   "outputs": [
    {
     "name": "stdout",
     "output_type": "stream",
     "text": [
      "True False\n"
     ]
    }
   ],
   "source": [
    "print(True,False)"
   ]
  },
  {
   "cell_type": "code",
   "execution_count": 7,
   "id": "e756abce",
   "metadata": {},
   "outputs": [
    {
     "data": {
      "text/plain": [
       "bool"
      ]
     },
     "execution_count": 7,
     "metadata": {},
     "output_type": "execute_result"
    }
   ],
   "source": [
    "type(True)#true is case sensitive"
   ]
  },
  {
   "cell_type": "code",
   "execution_count": 9,
   "id": "3682f125",
   "metadata": {},
   "outputs": [
    {
     "data": {
      "text/plain": [
       "bool"
      ]
     },
     "execution_count": 9,
     "metadata": {},
     "output_type": "execute_result"
    }
   ],
   "source": [
    "type(False)"
   ]
  },
  {
   "cell_type": "code",
   "execution_count": 23,
   "id": "667aa42e",
   "metadata": {},
   "outputs": [],
   "source": [
    "#how to apply different kind of in-buit functions\n",
    "my_str =\"susmithareddy\""
   ]
  },
  {
   "cell_type": "code",
   "execution_count": 24,
   "id": "3d579bb1",
   "metadata": {},
   "outputs": [],
   "source": [
    "#my_str. #click tab to get list of inbult functions"
   ]
  },
  {
   "cell_type": "code",
   "execution_count": 25,
   "id": "86c594e9",
   "metadata": {},
   "outputs": [
    {
     "name": "stdout",
     "output_type": "stream",
     "text": [
      "True\n",
      "True\n",
      "False\n",
      "False\n",
      "False\n",
      "True\n",
      "False\n",
      "True\n",
      "True\n"
     ]
    }
   ],
   "source": [
    "print(my_str.isalnum())#check if all char are numbers\n",
    "print(my_str.isalpha()) #check if all char in the string are alphabetic\n",
    "print(my_str.isdigit()) #test if string contains digits\n",
    "print(my_str.istitle()) #test if string contains title words\n",
    "print(my_str.isupper()) #test if string contains upper case\n",
    "print(my_str.islower()) #test if string contains lower case\n",
    "print(my_str.isspace()) #test if string contains spaces\n",
    "print(my_str.endswith('y')) #test if string endswith a d\n",
    "print(my_str.startswith('s')) #test if string startswith H"
   ]
  },
  {
   "cell_type": "markdown",
   "id": "360c5753",
   "metadata": {},
   "source": [
    "## Boolean and Logical Operators"
   ]
  },
  {
   "cell_type": "code",
   "execution_count": 26,
   "id": "e38d1553",
   "metadata": {},
   "outputs": [
    {
     "data": {
      "text/plain": [
       "True"
      ]
     },
     "execution_count": 26,
     "metadata": {},
     "output_type": "execute_result"
    }
   ],
   "source": [
    "True and True"
   ]
  },
  {
   "cell_type": "code",
   "execution_count": 27,
   "id": "d3e856a1",
   "metadata": {},
   "outputs": [
    {
     "data": {
      "text/plain": [
       "False"
      ]
     },
     "execution_count": 27,
     "metadata": {},
     "output_type": "execute_result"
    }
   ],
   "source": [
    "True and False\n"
   ]
  },
  {
   "cell_type": "code",
   "execution_count": 28,
   "id": "71d21245",
   "metadata": {},
   "outputs": [
    {
     "data": {
      "text/plain": [
       "True"
      ]
     },
     "execution_count": 28,
     "metadata": {},
     "output_type": "execute_result"
    }
   ],
   "source": [
    "True or False"
   ]
  },
  {
   "cell_type": "code",
   "execution_count": 29,
   "id": "83e7e2eb",
   "metadata": {},
   "outputs": [
    {
     "data": {
      "text/plain": [
       "True"
      ]
     },
     "execution_count": 29,
     "metadata": {},
     "output_type": "execute_result"
    }
   ],
   "source": [
    "True or True"
   ]
  },
  {
   "cell_type": "code",
   "execution_count": 30,
   "id": "f767dfda",
   "metadata": {},
   "outputs": [],
   "source": [
    "str_ex ='Hello World'\n",
    "my_str ='susmi'"
   ]
  },
  {
   "cell_type": "code",
   "execution_count": 32,
   "id": "8ee6c470",
   "metadata": {},
   "outputs": [
    {
     "data": {
      "text/plain": [
       "True"
      ]
     },
     "execution_count": 32,
     "metadata": {},
     "output_type": "execute_result"
    }
   ],
   "source": [
    "my_str.isalpha() or str_ex.isnum()"
   ]
  },
  {
   "cell_type": "markdown",
   "id": "8fdf7c54",
   "metadata": {},
   "source": [
    "## Lists\n",
    "A list is a data structure in Python that is a mutable, or changeable, ordered sequence of elements. Each element or value that is inside of a list is called an item. Just as strings are defined as characters between quotes, lists are defined by having values between square brackets [ ]"
   ]
  },
  {
   "cell_type": "code",
   "execution_count": 34,
   "id": "2ceff480",
   "metadata": {},
   "outputs": [
    {
     "data": {
      "text/plain": [
       "list"
      ]
     },
     "execution_count": 34,
     "metadata": {},
     "output_type": "execute_result"
    }
   ],
   "source": [
    "type([])"
   ]
  },
  {
   "cell_type": "code",
   "execution_count": 35,
   "id": "801146bf",
   "metadata": {},
   "outputs": [],
   "source": [
    "list_ex=[]"
   ]
  },
  {
   "cell_type": "code",
   "execution_count": 36,
   "id": "73b7a24e",
   "metadata": {},
   "outputs": [
    {
     "data": {
      "text/plain": [
       "list"
      ]
     },
     "execution_count": 36,
     "metadata": {},
     "output_type": "execute_result"
    }
   ],
   "source": [
    "type(list_ex)"
   ]
  },
  {
   "cell_type": "code",
   "execution_count": 37,
   "id": "4fa89522",
   "metadata": {},
   "outputs": [],
   "source": [
    "lst=list()"
   ]
  },
  {
   "cell_type": "code",
   "execution_count": 38,
   "id": "d1f942e3",
   "metadata": {},
   "outputs": [
    {
     "data": {
      "text/plain": [
       "list"
      ]
     },
     "execution_count": 38,
     "metadata": {},
     "output_type": "execute_result"
    }
   ],
   "source": [
    "type(lst)"
   ]
  },
  {
   "cell_type": "code",
   "execution_count": 39,
   "id": "7401d3a8",
   "metadata": {},
   "outputs": [],
   "source": [
    "lst=['math','chem',100,200,300]"
   ]
  },
  {
   "cell_type": "code",
   "execution_count": 40,
   "id": "8e87b761",
   "metadata": {},
   "outputs": [
    {
     "data": {
      "text/plain": [
       "5"
      ]
     },
     "execution_count": 40,
     "metadata": {},
     "output_type": "execute_result"
    }
   ],
   "source": [
    "len(lst)"
   ]
  },
  {
   "cell_type": "code",
   "execution_count": 41,
   "id": "76404420",
   "metadata": {},
   "outputs": [
    {
     "data": {
      "text/plain": [
       "list"
      ]
     },
     "execution_count": 41,
     "metadata": {},
     "output_type": "execute_result"
    }
   ],
   "source": [
    "type(lst)"
   ]
  },
  {
   "cell_type": "markdown",
   "id": "8cf77183",
   "metadata": {},
   "source": [
    "## Append \n",
    "##USED to add elements in the list"
   ]
  },
  {
   "cell_type": "code",
   "execution_count": 42,
   "id": "225c9304",
   "metadata": {},
   "outputs": [],
   "source": [
    "lst.append(\"susmi\")"
   ]
  },
  {
   "cell_type": "code",
   "execution_count": 43,
   "id": "095dd4da",
   "metadata": {},
   "outputs": [
    {
     "data": {
      "text/plain": [
       "['math', 'chem', 100, 200, 300, 'susmi']"
      ]
     },
     "execution_count": 43,
     "metadata": {},
     "output_type": "execute_result"
    }
   ],
   "source": [
    "lst"
   ]
  },
  {
   "cell_type": "code",
   "execution_count": 54,
   "id": "10508306",
   "metadata": {},
   "outputs": [],
   "source": [
    "lst.append([\"bharath\",\"banda\"])"
   ]
  },
  {
   "cell_type": "code",
   "execution_count": 55,
   "id": "5978c582",
   "metadata": {},
   "outputs": [
    {
     "data": {
      "text/plain": [
       "['math', 'bandi', 100, 'chem', 100, 200, 300, 'susmi', ['bharath', 'banda']]"
      ]
     },
     "execution_count": 55,
     "metadata": {},
     "output_type": "execute_result"
    }
   ],
   "source": [
    "lst#getting added as a new list in the end"
   ]
  },
  {
   "cell_type": "code",
   "execution_count": 100,
   "id": "2cbdd4d8",
   "metadata": {},
   "outputs": [
    {
     "data": {
      "text/plain": [
       "'susmi'"
      ]
     },
     "execution_count": 100,
     "metadata": {},
     "output_type": "execute_result"
    }
   ],
   "source": [
    "#indexing in list\n",
    "lst[6]"
   ]
  },
  {
   "cell_type": "markdown",
   "id": "6948d5c8",
   "metadata": {},
   "source": [
    "## insert"
   ]
  },
  {
   "cell_type": "code",
   "execution_count": 44,
   "id": "7622bc92",
   "metadata": {},
   "outputs": [],
   "source": [
    "## Used to insert in a specific order\n",
    "lst.insert(1,100)"
   ]
  },
  {
   "cell_type": "code",
   "execution_count": 45,
   "id": "17a52014",
   "metadata": {},
   "outputs": [
    {
     "data": {
      "text/plain": [
       "['math', 100, 'chem', 100, 200, 300, 'susmi']"
      ]
     },
     "execution_count": 45,
     "metadata": {},
     "output_type": "execute_result"
    }
   ],
   "source": [
    "lst"
   ]
  },
  {
   "cell_type": "code",
   "execution_count": 47,
   "id": "b8b80598",
   "metadata": {},
   "outputs": [],
   "source": [
    "lst.insert(1,\"bandi\")"
   ]
  },
  {
   "cell_type": "code",
   "execution_count": 50,
   "id": "6ac4ac49",
   "metadata": {},
   "outputs": [
    {
     "data": {
      "text/plain": [
       "['math', 'bandi', 100, 'chem', 100, 200, 300, 'susmi']"
      ]
     },
     "execution_count": 50,
     "metadata": {},
     "output_type": "execute_result"
    }
   ],
   "source": [
    "lst"
   ]
  },
  {
   "cell_type": "code",
   "execution_count": 49,
   "id": "b80822d1",
   "metadata": {},
   "outputs": [
    {
     "data": {
      "text/plain": [
       "100"
      ]
     },
     "execution_count": 49,
     "metadata": {},
     "output_type": "execute_result"
    }
   ],
   "source": [
    "lst[4]"
   ]
  },
  {
   "cell_type": "code",
   "execution_count": 51,
   "id": "81a67321",
   "metadata": {},
   "outputs": [
    {
     "data": {
      "text/plain": [
       "['math', 'bandi', 100, 'chem', 100, 200, 300, 'susmi']"
      ]
     },
     "execution_count": 51,
     "metadata": {},
     "output_type": "execute_result"
    }
   ],
   "source": [
    "#to pick up the elements \n",
    "lst[:]"
   ]
  },
  {
   "cell_type": "code",
   "execution_count": 52,
   "id": "f776a865",
   "metadata": {},
   "outputs": [
    {
     "data": {
      "text/plain": [
       "['bandi', 100, 'chem', 100, 200, 300, 'susmi']"
      ]
     },
     "execution_count": 52,
     "metadata": {},
     "output_type": "execute_result"
    }
   ],
   "source": [
    "lst[1:]"
   ]
  },
  {
   "cell_type": "code",
   "execution_count": 53,
   "id": "5c00fab0",
   "metadata": {},
   "outputs": [
    {
     "data": {
      "text/plain": [
       "[100, 'chem', 100, 200]"
      ]
     },
     "execution_count": 53,
     "metadata": {},
     "output_type": "execute_result"
    }
   ],
   "source": [
    "lst[2:6]"
   ]
  },
  {
   "cell_type": "markdown",
   "id": "203db292",
   "metadata": {},
   "source": [
    "## Extend"
   ]
  },
  {
   "cell_type": "code",
   "execution_count": 57,
   "id": "6bb29bb4",
   "metadata": {},
   "outputs": [
    {
     "data": {
      "text/plain": [
       "[1, 2, 3, 4, 5, 6]"
      ]
     },
     "execution_count": 57,
     "metadata": {},
     "output_type": "execute_result"
    }
   ],
   "source": [
    "lst1=[1,2,3,4,5,6]\n",
    "lst1"
   ]
  },
  {
   "cell_type": "code",
   "execution_count": 61,
   "id": "2248c470",
   "metadata": {},
   "outputs": [
    {
     "data": {
      "text/plain": [
       "[1, 2, 3, 4, 5, 6, 5, 6, 5, 6]"
      ]
     },
     "execution_count": 61,
     "metadata": {},
     "output_type": "execute_result"
    }
   ],
   "source": [
    "lst1.extend([5,6])\n",
    "lst1"
   ]
  },
  {
   "cell_type": "markdown",
   "id": "16401167",
   "metadata": {},
   "source": [
    "## Various Operations that we can perform in List"
   ]
  },
  {
   "cell_type": "code",
   "execution_count": 68,
   "id": "3ca4304e",
   "metadata": {},
   "outputs": [
    {
     "data": {
      "text/plain": [
       "[1, 2, 3, 4, 5, 6, 5, 6, 5]"
      ]
     },
     "execution_count": 68,
     "metadata": {},
     "output_type": "execute_result"
    }
   ],
   "source": [
    "lst1\n"
   ]
  },
  {
   "cell_type": "code",
   "execution_count": 64,
   "id": "0c01432f",
   "metadata": {},
   "outputs": [
    {
     "data": {
      "text/plain": [
       "43"
      ]
     },
     "execution_count": 64,
     "metadata": {},
     "output_type": "execute_result"
    }
   ],
   "source": [
    "sum(lst1)"
   ]
  },
  {
   "cell_type": "code",
   "execution_count": 101,
   "id": "3f7c2d59",
   "metadata": {},
   "outputs": [
    {
     "data": {
      "text/plain": [
       "[1, 2, 3, 54, 5, 1, 2, 3, 54, 5]"
      ]
     },
     "execution_count": 101,
     "metadata": {},
     "output_type": "execute_result"
    }
   ],
   "source": [
    "lst1*2 # whole list gets or repeats twice one after the other"
   ]
  },
  {
   "cell_type": "code",
   "execution_count": null,
   "id": "ecf788da",
   "metadata": {},
   "outputs": [],
   "source": []
  },
  {
   "cell_type": "markdown",
   "id": "5bc94023",
   "metadata": {},
   "source": [
    "## Pop() Method"
   ]
  },
  {
   "cell_type": "code",
   "execution_count": 66,
   "id": "f187045e",
   "metadata": {},
   "outputs": [
    {
     "data": {
      "text/plain": [
       "6"
      ]
     },
     "execution_count": 66,
     "metadata": {},
     "output_type": "execute_result"
    }
   ],
   "source": [
    "#picks up the element from specified index\n",
    "##if not specified it removed the last element and gives rest\n",
    "lst1.pop()"
   ]
  },
  {
   "cell_type": "code",
   "execution_count": 67,
   "id": "6dd9074e",
   "metadata": {},
   "outputs": [
    {
     "data": {
      "text/plain": [
       "[1, 2, 3, 4, 5, 6, 5, 6, 5]"
      ]
     },
     "execution_count": 67,
     "metadata": {},
     "output_type": "execute_result"
    }
   ],
   "source": [
    "lst1"
   ]
  },
  {
   "cell_type": "code",
   "execution_count": 70,
   "id": "85a9df72",
   "metadata": {},
   "outputs": [
    {
     "data": {
      "text/plain": [
       "1"
      ]
     },
     "execution_count": 70,
     "metadata": {},
     "output_type": "execute_result"
    }
   ],
   "source": [
    "lst1.pop(0)"
   ]
  },
  {
   "cell_type": "code",
   "execution_count": 71,
   "id": "416412ae",
   "metadata": {},
   "outputs": [
    {
     "data": {
      "text/plain": [
       "[2, 3, 4, 5, 6, 5, 6, 5]"
      ]
     },
     "execution_count": 71,
     "metadata": {},
     "output_type": "execute_result"
    }
   ],
   "source": [
    "lst1"
   ]
  },
  {
   "cell_type": "markdown",
   "id": "652bb6dc",
   "metadata": {},
   "source": [
    "### count():Calculates total occurrence of given element of List"
   ]
  },
  {
   "cell_type": "code",
   "execution_count": 93,
   "id": "7ecc846b",
   "metadata": {},
   "outputs": [],
   "source": [
    "lst2=[1,1,2,3,54,5,4,5,5]"
   ]
  },
  {
   "cell_type": "code",
   "execution_count": 94,
   "id": "de0bc4df",
   "metadata": {},
   "outputs": [
    {
     "data": {
      "text/plain": [
       "3"
      ]
     },
     "execution_count": 94,
     "metadata": {},
     "output_type": "execute_result"
    }
   ],
   "source": [
    "lst2.count(5) #gives the no of ekements present in the list"
   ]
  },
  {
   "cell_type": "code",
   "execution_count": 95,
   "id": "d3a452d5",
   "metadata": {},
   "outputs": [
    {
     "data": {
      "text/plain": [
       "[1, 1, 2, 3, 54, 5, 4, 5, 5]"
      ]
     },
     "execution_count": 95,
     "metadata": {},
     "output_type": "execute_result"
    }
   ],
   "source": [
    "lst2"
   ]
  },
  {
   "cell_type": "code",
   "execution_count": 96,
   "id": "37226c78",
   "metadata": {},
   "outputs": [
    {
     "data": {
      "text/plain": [
       "9"
      ]
     },
     "execution_count": 96,
     "metadata": {},
     "output_type": "execute_result"
    }
   ],
   "source": [
    "#length calculTES Total length of list\n",
    "len(lst2)"
   ]
  },
  {
   "cell_type": "code",
   "execution_count": 97,
   "id": "8e729d58",
   "metadata": {},
   "outputs": [
    {
     "data": {
      "text/plain": [
       "5"
      ]
     },
     "execution_count": 97,
     "metadata": {},
     "output_type": "execute_result"
    }
   ],
   "source": [
    "#index(): Returns the index of first occurrence. Start and End index are not necessary parameters\n",
    "lst2.index(5,1,9) #(element,start,stop imdex)"
   ]
  },
  {
   "cell_type": "code",
   "execution_count": 98,
   "id": "635d3ada",
   "metadata": {},
   "outputs": [
    {
     "data": {
      "text/plain": [
       "1"
      ]
     },
     "execution_count": 98,
     "metadata": {},
     "output_type": "execute_result"
    }
   ],
   "source": [
    "min(lst2)"
   ]
  },
  {
   "cell_type": "markdown",
   "id": "c51d2a49",
   "metadata": {},
   "source": []
  },
  {
   "cell_type": "code",
   "execution_count": 99,
   "id": "0d40e888",
   "metadata": {},
   "outputs": [
    {
     "data": {
      "text/plain": [
       "54"
      ]
     },
     "execution_count": 99,
     "metadata": {},
     "output_type": "execute_result"
    }
   ],
   "source": [
    "max(lst2)"
   ]
  },
  {
   "cell_type": "markdown",
   "id": "7cf1f2fd",
   "metadata": {},
   "source": [
    "###tutorial-3\n",
    "## Sets\n",
    "#A Set is an unordered collection data type that is iterable, mutable, and has no duplicate elements. Python's set class represents the mathematical notion of a set.This is based on a data structure known as a hash table"
   ]
  },
  {
   "cell_type": "code",
   "execution_count": 104,
   "id": "39d2c0c3",
   "metadata": {},
   "outputs": [
    {
     "name": "stdout",
     "output_type": "stream",
     "text": [
      "set()\n",
      "<class 'set'>\n"
     ]
    }
   ],
   "source": [
    "#defining an empty set\n",
    "set_var =set()\n",
    "print(set_var)\n",
    "print(type(set_var))"
   ]
  },
  {
   "cell_type": "code",
   "execution_count": 106,
   "id": "a57d9092",
   "metadata": {},
   "outputs": [],
   "source": [
    "set_var={1,2,3,4,5,3,4}"
   ]
  },
  {
   "cell_type": "code",
   "execution_count": 107,
   "id": "316a91f6",
   "metadata": {},
   "outputs": [
    {
     "data": {
      "text/plain": [
       "{1, 2, 3, 4, 5}"
      ]
     },
     "execution_count": 107,
     "metadata": {},
     "output_type": "execute_result"
    }
   ],
   "source": [
    "set_var"
   ]
  },
  {
   "cell_type": "code",
   "execution_count": 108,
   "id": "66b83295",
   "metadata": {},
   "outputs": [],
   "source": [
    "#inbuilt function in sets\n",
    "set_var.add('susmi')"
   ]
  },
  {
   "cell_type": "code",
   "execution_count": null,
   "id": "a6e8f377",
   "metadata": {},
   "outputs": [],
   "source": []
  },
  {
   "cell_type": "code",
   "execution_count": null,
   "id": "2705c361",
   "metadata": {},
   "outputs": [],
   "source": []
  },
  {
   "cell_type": "code",
   "execution_count": null,
   "id": "a08d07ae",
   "metadata": {},
   "outputs": [],
   "source": []
  },
  {
   "cell_type": "code",
   "execution_count": null,
   "id": "8a1b0f8f",
   "metadata": {},
   "outputs": [],
   "source": []
  }
 ],
 "metadata": {
  "celltoolbar": "Raw Cell Format",
  "kernelspec": {
   "display_name": "Python 3 (ipykernel)",
   "language": "python",
   "name": "python3"
  },
  "language_info": {
   "codemirror_mode": {
    "name": "ipython",
    "version": 3
   },
   "file_extension": ".py",
   "mimetype": "text/x-python",
   "name": "python",
   "nbconvert_exporter": "python",
   "pygments_lexer": "ipython3",
   "version": "3.9.7"
  }
 },
 "nbformat": 4,
 "nbformat_minor": 5
}
